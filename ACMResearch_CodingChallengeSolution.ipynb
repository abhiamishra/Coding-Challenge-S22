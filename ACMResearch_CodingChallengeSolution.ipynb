{
 "cells": [
  {
   "cell_type": "code",
   "execution_count": 44,
   "id": "e854011c",
   "metadata": {},
   "outputs": [
    {
     "name": "stdout",
     "output_type": "stream",
     "text": [
      "Collecting xgboost\n",
      "  Downloading xgboost-1.5.2-py3-none-win_amd64.whl (106.6 MB)\n",
      "Requirement already satisfied: numpy in c:\\users\\abhi\\anaconda3\\lib\\site-packages (from xgboost) (1.19.5)\n",
      "Requirement already satisfied: scipy in c:\\users\\abhi\\anaconda3\\lib\\site-packages (from xgboost) (1.6.2)\n",
      "Installing collected packages: xgboost\n",
      "Successfully installed xgboost-1.5.2\n",
      "Note: you may need to restart the kernel to use updated packages.\n"
     ]
    }
   ],
   "source": [
    "pip install xgboost"
   ]
  },
  {
   "cell_type": "code",
   "execution_count": 255,
   "id": "2b1488ae",
   "metadata": {},
   "outputs": [],
   "source": [
    "#Importing libraries\n",
    "import xgboost\n",
    "from xgboost import XGBRFClassifier\n",
    "\n",
    "import os\n",
    "import pandas as pd\n",
    "import numpy as np\n",
    "from numpy import mean\n",
    "from numpy import std\n",
    "import matplotlib as plt\n",
    "import seaborn as sns\n",
    "from matplotlib import pyplot\n",
    "\n",
    "from sklearn.preprocessing import LabelEncoder\n",
    "from sklearn.preprocessing import OrdinalEncoder\n",
    "from sklearn.preprocessing import OneHotEncoder\n",
    "from sklearn.model_selection import train_test_split\n",
    "from sklearn.ensemble import RandomForestClassifier\n",
    "from sklearn.metrics import confusion_matrix, accuracy_score\n",
    "from sklearn.metrics import classification_report"
   ]
  },
  {
   "cell_type": "code",
   "execution_count": 204,
   "id": "26bd9819",
   "metadata": {},
   "outputs": [
    {
     "data": {
      "text/html": [
       "<div>\n",
       "<style scoped>\n",
       "    .dataframe tbody tr th:only-of-type {\n",
       "        vertical-align: middle;\n",
       "    }\n",
       "\n",
       "    .dataframe tbody tr th {\n",
       "        vertical-align: top;\n",
       "    }\n",
       "\n",
       "    .dataframe thead th {\n",
       "        text-align: right;\n",
       "    }\n",
       "</style>\n",
       "<table border=\"1\" class=\"dataframe\">\n",
       "  <thead>\n",
       "    <tr style=\"text-align: right;\">\n",
       "      <th></th>\n",
       "      <th>class</th>\n",
       "      <th>cap-shape</th>\n",
       "      <th>cap-surface</th>\n",
       "      <th>cap-color</th>\n",
       "      <th>bruises</th>\n",
       "      <th>odor</th>\n",
       "      <th>gill-attachment</th>\n",
       "      <th>gill-spacing</th>\n",
       "      <th>gill-size</th>\n",
       "      <th>gill-color</th>\n",
       "      <th>stalk-shape</th>\n",
       "      <th>stalk-root</th>\n",
       "      <th>stalk-surface-above-ring</th>\n",
       "      <th>stalk-surface-below-ring</th>\n",
       "      <th>stalk-color-above-ring</th>\n",
       "      <th>stalk-color-below-ring</th>\n",
       "      <th>veil-type</th>\n",
       "      <th>veil-color</th>\n",
       "      <th>ring-number</th>\n",
       "      <th>ring-type</th>\n",
       "      <th>spore-print-color</th>\n",
       "      <th>population</th>\n",
       "      <th>habitat</th>\n",
       "    </tr>\n",
       "  </thead>\n",
       "  <tbody>\n",
       "    <tr>\n",
       "      <th>0</th>\n",
       "      <td>p</td>\n",
       "      <td>x</td>\n",
       "      <td>s</td>\n",
       "      <td>n</td>\n",
       "      <td>t</td>\n",
       "      <td>p</td>\n",
       "      <td>f</td>\n",
       "      <td>c</td>\n",
       "      <td>n</td>\n",
       "      <td>k</td>\n",
       "      <td>e</td>\n",
       "      <td>e</td>\n",
       "      <td>s</td>\n",
       "      <td>s</td>\n",
       "      <td>w</td>\n",
       "      <td>w</td>\n",
       "      <td>p</td>\n",
       "      <td>w</td>\n",
       "      <td>o</td>\n",
       "      <td>p</td>\n",
       "      <td>k</td>\n",
       "      <td>s</td>\n",
       "      <td>u</td>\n",
       "    </tr>\n",
       "    <tr>\n",
       "      <th>1</th>\n",
       "      <td>e</td>\n",
       "      <td>x</td>\n",
       "      <td>s</td>\n",
       "      <td>y</td>\n",
       "      <td>t</td>\n",
       "      <td>a</td>\n",
       "      <td>f</td>\n",
       "      <td>c</td>\n",
       "      <td>b</td>\n",
       "      <td>k</td>\n",
       "      <td>e</td>\n",
       "      <td>c</td>\n",
       "      <td>s</td>\n",
       "      <td>s</td>\n",
       "      <td>w</td>\n",
       "      <td>w</td>\n",
       "      <td>p</td>\n",
       "      <td>w</td>\n",
       "      <td>o</td>\n",
       "      <td>p</td>\n",
       "      <td>n</td>\n",
       "      <td>n</td>\n",
       "      <td>g</td>\n",
       "    </tr>\n",
       "    <tr>\n",
       "      <th>2</th>\n",
       "      <td>e</td>\n",
       "      <td>b</td>\n",
       "      <td>s</td>\n",
       "      <td>w</td>\n",
       "      <td>t</td>\n",
       "      <td>l</td>\n",
       "      <td>f</td>\n",
       "      <td>c</td>\n",
       "      <td>b</td>\n",
       "      <td>n</td>\n",
       "      <td>e</td>\n",
       "      <td>c</td>\n",
       "      <td>s</td>\n",
       "      <td>s</td>\n",
       "      <td>w</td>\n",
       "      <td>w</td>\n",
       "      <td>p</td>\n",
       "      <td>w</td>\n",
       "      <td>o</td>\n",
       "      <td>p</td>\n",
       "      <td>n</td>\n",
       "      <td>n</td>\n",
       "      <td>m</td>\n",
       "    </tr>\n",
       "    <tr>\n",
       "      <th>3</th>\n",
       "      <td>p</td>\n",
       "      <td>x</td>\n",
       "      <td>y</td>\n",
       "      <td>w</td>\n",
       "      <td>t</td>\n",
       "      <td>p</td>\n",
       "      <td>f</td>\n",
       "      <td>c</td>\n",
       "      <td>n</td>\n",
       "      <td>n</td>\n",
       "      <td>e</td>\n",
       "      <td>e</td>\n",
       "      <td>s</td>\n",
       "      <td>s</td>\n",
       "      <td>w</td>\n",
       "      <td>w</td>\n",
       "      <td>p</td>\n",
       "      <td>w</td>\n",
       "      <td>o</td>\n",
       "      <td>p</td>\n",
       "      <td>k</td>\n",
       "      <td>s</td>\n",
       "      <td>u</td>\n",
       "    </tr>\n",
       "    <tr>\n",
       "      <th>4</th>\n",
       "      <td>e</td>\n",
       "      <td>x</td>\n",
       "      <td>s</td>\n",
       "      <td>g</td>\n",
       "      <td>f</td>\n",
       "      <td>n</td>\n",
       "      <td>f</td>\n",
       "      <td>w</td>\n",
       "      <td>b</td>\n",
       "      <td>k</td>\n",
       "      <td>t</td>\n",
       "      <td>e</td>\n",
       "      <td>s</td>\n",
       "      <td>s</td>\n",
       "      <td>w</td>\n",
       "      <td>w</td>\n",
       "      <td>p</td>\n",
       "      <td>w</td>\n",
       "      <td>o</td>\n",
       "      <td>e</td>\n",
       "      <td>n</td>\n",
       "      <td>a</td>\n",
       "      <td>g</td>\n",
       "    </tr>\n",
       "  </tbody>\n",
       "</table>\n",
       "</div>"
      ],
      "text/plain": [
       "  class cap-shape cap-surface cap-color bruises odor gill-attachment gill-spacing gill-size gill-color stalk-shape stalk-root stalk-surface-above-ring stalk-surface-below-ring stalk-color-above-ring stalk-color-below-ring veil-type veil-color ring-number ring-type spore-print-color population habitat\n",
       "0     p         x           s         n       t    p               f            c         n          k           e          e                        s                        s                      w                      w         p          w           o         p                 k          s       u\n",
       "1     e         x           s         y       t    a               f            c         b          k           e          c                        s                        s                      w                      w         p          w           o         p                 n          n       g\n",
       "2     e         b           s         w       t    l               f            c         b          n           e          c                        s                        s                      w                      w         p          w           o         p                 n          n       m\n",
       "3     p         x           y         w       t    p               f            c         n          n           e          e                        s                        s                      w                      w         p          w           o         p                 k          s       u\n",
       "4     e         x           s         g       f    n               f            w         b          k           t          e                        s                        s                      w                      w         p          w           o         e                 n          a       g"
      ]
     },
     "execution_count": 204,
     "metadata": {},
     "output_type": "execute_result"
    }
   ],
   "source": [
    "#Read in the data\n",
    "df = pd.read_csv ('mushrooms.csv')\n",
    "df.head()"
   ]
  },
  {
   "cell_type": "code",
   "execution_count": 205,
   "id": "97cbcaf6",
   "metadata": {},
   "outputs": [
    {
     "data": {
      "text/plain": [
       "Text(0.5, 1.0, 'Class Breakdown of Edible v. Poisonous')"
      ]
     },
     "execution_count": 205,
     "metadata": {},
     "output_type": "execute_result"
    },
    {
     "data": {
      "image/png": "[encoded data removed]",
      "text/plain": [
       "<Figure size 432x288 with 1 Axes>"
      ]
     },
     "metadata": {
      "needs_background": "light"
     },
     "output_type": "display_data"
    }
   ],
   "source": [
    "#Exploratory Data Analysis\n",
    "sns.countplot(x=df['class']).set_title(\"Class Breakdown of Edible v. Poisonous\")\n",
    "\n",
    "#We can see the breakdown of our data is balanced and as such, we don't need to balance the data."
   ]
  },
  {
   "cell_type": "code",
   "execution_count": 278,
   "id": "e6894c08",
   "metadata": {},
   "outputs": [],
   "source": [
    "#Separating our features from our classifying variable\n",
    "X = df.iloc[:, 1:].values\n",
    "y = df.iloc[:,0].values"
   ]
  },
  {
   "cell_type": "code",
   "execution_count": 279,
   "id": "381d38ef",
   "metadata": {},
   "outputs": [],
   "source": [
    "#Splitting dataset into 75/25 split for training and testing dataset\n",
    "X_train, X_test, y_train, y_test = train_test_split(X, y, test_size = 0.25, random_state = 0)"
   ]
  },
  {
   "cell_type": "code",
   "execution_count": 280,
   "id": "8530f304",
   "metadata": {},
   "outputs": [],
   "source": [
    "#One-hot encoding the variables in the factors dataset\n",
    "x_encoder = OneHotEncoder()\n",
    "x_encoder.fit(X_train)\n",
    "encX_train = x_encoder.transform(X_train)\n",
    "encX_test = x_encoder.transform(X_test)"
   ]
  },
  {
   "cell_type": "code",
   "execution_count": 285,
   "id": "2b7e429c",
   "metadata": {},
   "outputs": [],
   "source": [
    "#Label-encoding our classifying variables into 0/1 based on the classes\n",
    "y_encoder = LabelEncoder()\n",
    "y_encoder.fit(y_train)\n",
    "encY_train = y_encoder.transform(y_train)\n",
    "encY_test = y_encoder.transform(y_test)"
   ]
  },
  {
   "cell_type": "code",
   "execution_count": 286,
   "id": "2497ee64",
   "metadata": {},
   "outputs": [
    {
     "name": "stdout",
     "output_type": "stream",
     "text": [
      "{'e': 0, 'p': 1}\n"
     ]
    }
   ],
   "source": [
    "mapping = dict(zip(y_encoder.classes_, range(0, len(y_encoder.classes_)+1)))\n",
    "print(mapping)\n",
    "\n",
    "#As such, poisonous is 1 and edible is 0 as confirmed by below"
   ]
  },
  {
   "cell_type": "code",
   "execution_count": 287,
   "id": "629833d1",
   "metadata": {},
   "outputs": [
    {
     "data": {
      "text/plain": [
       "array(['p', 'e', 'e', ..., 'e', 'e', 'e'], dtype=object)"
      ]
     },
     "execution_count": 287,
     "metadata": {},
     "output_type": "execute_result"
    }
   ],
   "source": [
    "y_train"
   ]
  },
  {
   "cell_type": "code",
   "execution_count": 288,
   "id": "f5713972",
   "metadata": {},
   "outputs": [
    {
     "data": {
      "text/plain": [
       "array([1, 0, 0, ..., 0, 0, 0])"
      ]
     },
     "execution_count": 288,
     "metadata": {},
     "output_type": "execute_result"
    }
   ],
   "source": [
    "encY_train"
   ]
  },
  {
   "cell_type": "code",
   "execution_count": 258,
   "id": "cce5f01a",
   "metadata": {},
   "outputs": [
    {
     "data": {
      "text/plain": [
       "RandomForestClassifier(criterion='entropy', random_state=0)"
      ]
     },
     "execution_count": 258,
     "metadata": {},
     "output_type": "execute_result"
    }
   ],
   "source": [
    "#Attempt One - simple random forest regression using all features\n",
    "poisonDetect = RandomForestClassifier(n_estimators = 100, criterion = 'entropy', random_state = 0)\n",
    "poisonDetect.fit(encX_train, encY_train)"
   ]
  },
  {
   "cell_type": "code",
   "execution_count": 259,
   "id": "013f6602",
   "metadata": {},
   "outputs": [
    {
     "name": "stdout",
     "output_type": "stream",
     "text": [
      "[[1061    0]\n",
      " [   0  970]]\n"
     ]
    },
    {
     "data": {
      "text/plain": [
       "1.0"
      ]
     },
     "execution_count": 259,
     "metadata": {},
     "output_type": "execute_result"
    }
   ],
   "source": [
    "#Calculating metrics to measure our classification attempt:\n",
    "y_pred = poisonDetect.predict(encX_test)\n",
    "confMatrix = confusion_matrix(encY_test, y_pred)\n",
    "print(confMatrix)\n",
    "\n",
    "#Accuracy Score\n",
    "accuracy_score(encY_test, y_pred)"
   ]
  },
  {
   "cell_type": "code",
   "execution_count": 260,
   "id": "26966b25",
   "metadata": {},
   "outputs": [
    {
     "name": "stdout",
     "output_type": "stream",
     "text": [
      "              precision    recall  f1-score   support\n",
      "\n",
      "           0       1.00      1.00      1.00      1061\n",
      "           1       1.00      1.00      1.00       970\n",
      "\n",
      "    accuracy                           1.00      2031\n",
      "   macro avg       1.00      1.00      1.00      2031\n",
      "weighted avg       1.00      1.00      1.00      2031\n",
      "\n"
     ]
    }
   ],
   "source": [
    "#Making a classification report to understand the meaning of our metrics:\n",
    "target_names = ['0', '1']\n",
    "print(classification_report(encY_test, y_pred, target_names=target_names))"
   ]
  },
  {
   "cell_type": "code",
   "execution_count": 214,
   "id": "a48eec90",
   "metadata": {},
   "outputs": [
    {
     "data": {
      "text/html": [
       "<div>\n",
       "<style scoped>\n",
       "    .dataframe tbody tr th:only-of-type {\n",
       "        vertical-align: middle;\n",
       "    }\n",
       "\n",
       "    .dataframe tbody tr th {\n",
       "        vertical-align: top;\n",
       "    }\n",
       "\n",
       "    .dataframe thead th {\n",
       "        text-align: right;\n",
       "    }\n",
       "</style>\n",
       "<table border=\"1\" class=\"dataframe\">\n",
       "  <thead>\n",
       "    <tr style=\"text-align: right;\">\n",
       "      <th></th>\n",
       "      <th>label</th>\n",
       "      <th>prediction</th>\n",
       "      <th>actual</th>\n",
       "    </tr>\n",
       "  </thead>\n",
       "  <tbody>\n",
       "    <tr>\n",
       "      <th>0</th>\n",
       "      <td>0</td>\n",
       "      <td>p</td>\n",
       "      <td>p</td>\n",
       "    </tr>\n",
       "    <tr>\n",
       "      <th>1</th>\n",
       "      <td>1</td>\n",
       "      <td>e</td>\n",
       "      <td>e</td>\n",
       "    </tr>\n",
       "    <tr>\n",
       "      <th>2</th>\n",
       "      <td>2</td>\n",
       "      <td>e</td>\n",
       "      <td>e</td>\n",
       "    </tr>\n",
       "    <tr>\n",
       "      <th>3</th>\n",
       "      <td>3</td>\n",
       "      <td>e</td>\n",
       "      <td>e</td>\n",
       "    </tr>\n",
       "    <tr>\n",
       "      <th>4</th>\n",
       "      <td>4</td>\n",
       "      <td>e</td>\n",
       "      <td>e</td>\n",
       "    </tr>\n",
       "    <tr>\n",
       "      <th>...</th>\n",
       "      <td>...</td>\n",
       "      <td>...</td>\n",
       "      <td>...</td>\n",
       "    </tr>\n",
       "    <tr>\n",
       "      <th>2026</th>\n",
       "      <td>2026</td>\n",
       "      <td>e</td>\n",
       "      <td>e</td>\n",
       "    </tr>\n",
       "    <tr>\n",
       "      <th>2027</th>\n",
       "      <td>2027</td>\n",
       "      <td>p</td>\n",
       "      <td>p</td>\n",
       "    </tr>\n",
       "    <tr>\n",
       "      <th>2028</th>\n",
       "      <td>2028</td>\n",
       "      <td>p</td>\n",
       "      <td>p</td>\n",
       "    </tr>\n",
       "    <tr>\n",
       "      <th>2029</th>\n",
       "      <td>2029</td>\n",
       "      <td>e</td>\n",
       "      <td>e</td>\n",
       "    </tr>\n",
       "    <tr>\n",
       "      <th>2030</th>\n",
       "      <td>2030</td>\n",
       "      <td>e</td>\n",
       "      <td>e</td>\n",
       "    </tr>\n",
       "  </tbody>\n",
       "</table>\n",
       "<p>2031 rows × 3 columns</p>\n",
       "</div>"
      ],
      "text/plain": [
       "      label prediction actual\n",
       "0         0          p      p\n",
       "1         1          e      e\n",
       "2         2          e      e\n",
       "3         3          e      e\n",
       "4         4          e      e\n",
       "...     ...        ...    ...\n",
       "2026   2026          e      e\n",
       "2027   2027          p      p\n",
       "2028   2028          p      p\n",
       "2029   2029          e      e\n",
       "2030   2030          e      e\n",
       "\n",
       "[2031 rows x 3 columns]"
      ]
     },
     "execution_count": 214,
     "metadata": {},
     "output_type": "execute_result"
    }
   ],
   "source": [
    "#Putting the predicted values side-by-side to the actual values\n",
    "idTest = list(range(0, len(y_test)))\n",
    "y_pred = y_encoder.inverse_transform(y_pred)\n",
    "encY_test = y_encoder.inverse_transform(encY_test)\n",
    "dataset = pd.DataFrame({'label': idTest, 'prediction': list(y_pred), 'actual': list(encY_test)}, columns=['label', 'prediction', 'actual'])\n",
    "dataset"
   ]
  },
  {
   "cell_type": "raw",
   "id": "2d768276",
   "metadata": {},
   "source": []
  },
  {
   "cell_type": "code",
   "execution_count": 289,
   "id": "f20d2da4",
   "metadata": {},
   "outputs": [],
   "source": [
    "#Simple Random forest regression is fine however can we build a more resilient random forest regression here?\n",
    "#Attempt two will have: feature selection and using boosted random forest regression trees\n",
    "\n",
    "#For feature selection, we use an ordinal encoder on the categorical variable\n",
    "ordinalEncoder = OrdinalEncoder()\n",
    "ordinalEncoder.fit(X_train)\n",
    "fsX_train = ordinalEncoder.transform(X_train)\n",
    "fsX_test = ordinalEncoder.transform(X_test)\n",
    "encY_train = y_encoder.transform(y_train)\n",
    "encY_test = y_encoder.transform(y_test)"
   ]
  },
  {
   "cell_type": "code",
   "execution_count": 290,
   "id": "b11e607f",
   "metadata": {},
   "outputs": [
    {
     "name": "stdout",
     "output_type": "stream",
     "text": [
      "{'e': 0, 'p': 1}\n"
     ]
    }
   ],
   "source": [
    "mapping = dict(zip(y_encoder.classes_, range(0, len(y_encoder.classes_)+1)))\n",
    "print(mapping)\n",
    "\n",
    "#As such, poisonous is 1 and edible is 0 as confirmed by below"
   ]
  },
  {
   "cell_type": "code",
   "execution_count": 291,
   "id": "0ba13bd0",
   "metadata": {},
   "outputs": [
    {
     "data": {
      "text/plain": [
       "array(['p', 'e', 'e', ..., 'e', 'e', 'e'], dtype=object)"
      ]
     },
     "execution_count": 291,
     "metadata": {},
     "output_type": "execute_result"
    }
   ],
   "source": [
    "y_train"
   ]
  },
  {
   "cell_type": "code",
   "execution_count": 292,
   "id": "def468cb",
   "metadata": {},
   "outputs": [
    {
     "data": {
      "text/plain": [
       "array([1, 0, 0, ..., 0, 0, 0])"
      ]
     },
     "execution_count": 292,
     "metadata": {},
     "output_type": "execute_result"
    }
   ],
   "source": [
    "encY_train"
   ]
  },
  {
   "cell_type": "code",
   "execution_count": 262,
   "id": "d58eb9a2",
   "metadata": {},
   "outputs": [
    {
     "data": {
      "text/plain": [
       "SelectKBest(k='all', score_func=<function chi2 at 0x0000029620412C10>)"
      ]
     },
     "execution_count": 262,
     "metadata": {},
     "output_type": "execute_result"
    }
   ],
   "source": [
    "#Use the Chi2 Square Test to find variables that correlate to our classifying variable\n",
    "from sklearn.feature_selection import SelectKBest\n",
    "from sklearn.feature_selection import chi2\n",
    "featureSelect = SelectKBest(score_func=chi2, k='all')\n",
    "featureSelect.fit(fsX_train, encY_train)"
   ]
  },
  {
   "cell_type": "code",
   "execution_count": 263,
   "id": "0420b409",
   "metadata": {},
   "outputs": [
    {
     "data": {
      "image/png": "[encoded data removed]",
      "text/plain": [
       "<Figure size 432x288 with 1 Axes>"
      ]
     },
     "metadata": {
      "needs_background": "light"
     },
     "output_type": "display_data"
    }
   ],
   "source": [
    "#Plot of variables versus their squares relating their independence. Higher the value = more reason to keep them\n",
    "pyplot.bar([i for i in range(len(featureSelect.scores_))], featureSelect.scores_)\n",
    "pyplot.show()\n",
    "\n",
    "#We see that we want the top 5/6 features instead of the entirety of 22. "
   ]
  },
  {
   "cell_type": "code",
   "execution_count": 264,
   "id": "b2745a65",
   "metadata": {},
   "outputs": [],
   "source": [
    "featureSelect = SelectKBest(score_func=chi2, k=6)\n",
    "featureSelect.fit(fsX_train, encY_train)\n",
    "encX_train = featureSelect.transform(fsX_train)\n",
    "encX_test = featureSelect.transform(fsX_test)"
   ]
  },
  {
   "cell_type": "code",
   "execution_count": 265,
   "id": "c6775582",
   "metadata": {},
   "outputs": [],
   "source": [
    "#Attempt Two - defining the model\n",
    "\n",
    "#Use an XGBOOST classifier to make our model perform better with the less number of features we are using\n",
    "model = XGBRFClassifier(objective='binary:logistic',\n",
    "                            n_estimators=100,\n",
    "                                subsample=0.9,\n",
    "                                   colsample_bynode=0.7,\n",
    "                                       use_label_encoder=False)"
   ]
  },
  {
   "cell_type": "code",
   "execution_count": 266,
   "id": "15bc0612",
   "metadata": {},
   "outputs": [],
   "source": [
    "#Defining model evaluation procedure of cross-validation\n",
    "from sklearn.model_selection import cross_val_score\n",
    "from sklearn.model_selection import RepeatedStratifiedKFold\n",
    "cross_val = RepeatedStratifiedKFold(n_splits=10, n_repeats=3, random_state=1)"
   ]
  },
  {
   "cell_type": "code",
   "execution_count": 267,
   "id": "936fe3f9",
   "metadata": {},
   "outputs": [],
   "source": [
    "#Evaluate model and collect the scores\n",
    "n_scores = cross_val_score(model, encX_train, encY_train, scoring='accuracy', cv=cross_val, n_jobs=-1)"
   ]
  },
  {
   "cell_type": "code",
   "execution_count": 268,
   "id": "d79b9063",
   "metadata": {},
   "outputs": [
    {
     "name": "stdout",
     "output_type": "stream",
     "text": [
      "Mean Accuracy with Standard Deviation: 0.969 (0.006)\n"
     ]
    }
   ],
   "source": [
    "# evaluate xgboost random forest algorithm for classification\n",
    "print('Mean Accuracy with Standard Deviation: %.3f (%.3f)' % (mean(n_scores), std(n_scores)))"
   ]
  },
  {
   "cell_type": "code",
   "execution_count": 269,
   "id": "05cb8aa6",
   "metadata": {},
   "outputs": [
    {
     "name": "stdout",
     "output_type": "stream",
     "text": [
      "[20:30:29] WARNING: C:/Users/Administrator/workspace/xgboost-win64_release_1.5.1/src/learner.cc:1115: Starting in XGBoost 1.3.0, the default evaluation metric used with the objective 'binary:logistic' was changed from 'error' to 'logloss'. Explicitly set eval_metric if you'd like to restore the old behavior.\n"
     ]
    },
    {
     "data": {
      "text/plain": [
       "XGBRFClassifier(base_score=0.5, booster='gbtree', colsample_bylevel=1,\n",
       "                colsample_bynode=0.7, colsample_bytree=1,\n",
       "                enable_categorical=False, gamma=0, gpu_id=-1,\n",
       "                importance_type=None, interaction_constraints='',\n",
       "                max_delta_step=0, max_depth=6, min_child_weight=1, missing=nan,\n",
       "                monotone_constraints='()', n_estimators=100, n_jobs=8,\n",
       "                num_parallel_tree=100, objective='binary:logistic',\n",
       "                predictor='auto', random_state=0, reg_alpha=0,\n",
       "                scale_pos_weight=1, subsample=0.9, tree_method='exact',\n",
       "                use_label_encoder=False, validate_parameters=1, verbosity=None)"
      ]
     },
     "execution_count": 269,
     "metadata": {},
     "output_type": "execute_result"
    }
   ],
   "source": [
    "#Fitting model\n",
    "model.fit(encX_train, encY_train)"
   ]
  },
  {
   "cell_type": "code",
   "execution_count": 270,
   "id": "0af8275d",
   "metadata": {},
   "outputs": [],
   "source": [
    "y_pred = model.predict(encX_test)"
   ]
  },
  {
   "cell_type": "code",
   "execution_count": 271,
   "id": "35a02426",
   "metadata": {},
   "outputs": [
    {
     "name": "stdout",
     "output_type": "stream",
     "text": [
      "[[1061    0]\n",
      " [  65  905]]\n"
     ]
    },
    {
     "data": {
      "text/plain": [
       "0.9679960610536681"
      ]
     },
     "execution_count": 271,
     "metadata": {},
     "output_type": "execute_result"
    }
   ],
   "source": [
    "#Calculating metrics to measure our classification attempt:\n",
    "confMatrix = confusion_matrix(encY_test, y_pred)\n",
    "print(confMatrix)\n",
    "\n",
    "#Accuracy Score\n",
    "accuracy_score(encY_test, y_pred)"
   ]
  },
  {
   "cell_type": "code",
   "execution_count": 272,
   "id": "8fd52fe8",
   "metadata": {},
   "outputs": [
    {
     "name": "stdout",
     "output_type": "stream",
     "text": [
      "              precision    recall  f1-score   support\n",
      "\n",
      "           0       0.94      1.00      0.97      1061\n",
      "           1       1.00      0.93      0.97       970\n",
      "\n",
      "    accuracy                           0.97      2031\n",
      "   macro avg       0.97      0.97      0.97      2031\n",
      "weighted avg       0.97      0.97      0.97      2031\n",
      "\n"
     ]
    }
   ],
   "source": [
    "#Classification repot\n",
    "target_names = ['0', '1']\n",
    "print(classification_report(encY_test, y_pred, target_names=target_names))"
   ]
  },
  {
   "cell_type": "code",
   "execution_count": 253,
   "id": "46bdc688",
   "metadata": {},
   "outputs": [
    {
     "data": {
      "text/html": [
       "<div>\n",
       "<style scoped>\n",
       "    .dataframe tbody tr th:only-of-type {\n",
       "        vertical-align: middle;\n",
       "    }\n",
       "\n",
       "    .dataframe tbody tr th {\n",
       "        vertical-align: top;\n",
       "    }\n",
       "\n",
       "    .dataframe thead th {\n",
       "        text-align: right;\n",
       "    }\n",
       "</style>\n",
       "<table border=\"1\" class=\"dataframe\">\n",
       "  <thead>\n",
       "    <tr style=\"text-align: right;\">\n",
       "      <th></th>\n",
       "      <th>label</th>\n",
       "      <th>prediction</th>\n",
       "      <th>actual</th>\n",
       "    </tr>\n",
       "  </thead>\n",
       "  <tbody>\n",
       "    <tr>\n",
       "      <th>0</th>\n",
       "      <td>0</td>\n",
       "      <td>p</td>\n",
       "      <td>p</td>\n",
       "    </tr>\n",
       "    <tr>\n",
       "      <th>1</th>\n",
       "      <td>1</td>\n",
       "      <td>e</td>\n",
       "      <td>e</td>\n",
       "    </tr>\n",
       "    <tr>\n",
       "      <th>2</th>\n",
       "      <td>2</td>\n",
       "      <td>e</td>\n",
       "      <td>e</td>\n",
       "    </tr>\n",
       "    <tr>\n",
       "      <th>3</th>\n",
       "      <td>3</td>\n",
       "      <td>e</td>\n",
       "      <td>e</td>\n",
       "    </tr>\n",
       "    <tr>\n",
       "      <th>4</th>\n",
       "      <td>4</td>\n",
       "      <td>e</td>\n",
       "      <td>e</td>\n",
       "    </tr>\n",
       "    <tr>\n",
       "      <th>...</th>\n",
       "      <td>...</td>\n",
       "      <td>...</td>\n",
       "      <td>...</td>\n",
       "    </tr>\n",
       "    <tr>\n",
       "      <th>2026</th>\n",
       "      <td>2026</td>\n",
       "      <td>e</td>\n",
       "      <td>e</td>\n",
       "    </tr>\n",
       "    <tr>\n",
       "      <th>2027</th>\n",
       "      <td>2027</td>\n",
       "      <td>p</td>\n",
       "      <td>p</td>\n",
       "    </tr>\n",
       "    <tr>\n",
       "      <th>2028</th>\n",
       "      <td>2028</td>\n",
       "      <td>p</td>\n",
       "      <td>p</td>\n",
       "    </tr>\n",
       "    <tr>\n",
       "      <th>2029</th>\n",
       "      <td>2029</td>\n",
       "      <td>e</td>\n",
       "      <td>e</td>\n",
       "    </tr>\n",
       "    <tr>\n",
       "      <th>2030</th>\n",
       "      <td>2030</td>\n",
       "      <td>e</td>\n",
       "      <td>e</td>\n",
       "    </tr>\n",
       "  </tbody>\n",
       "</table>\n",
       "<p>2031 rows × 3 columns</p>\n",
       "</div>"
      ],
      "text/plain": [
       "      label prediction actual\n",
       "0         0          p      p\n",
       "1         1          e      e\n",
       "2         2          e      e\n",
       "3         3          e      e\n",
       "4         4          e      e\n",
       "...     ...        ...    ...\n",
       "2026   2026          e      e\n",
       "2027   2027          p      p\n",
       "2028   2028          p      p\n",
       "2029   2029          e      e\n",
       "2030   2030          e      e\n",
       "\n",
       "[2031 rows x 3 columns]"
      ]
     },
     "execution_count": 253,
     "metadata": {},
     "output_type": "execute_result"
    }
   ],
   "source": [
    "#Putting the predicted and actual values next to each other.\n",
    "idTest = list(range(0, len(y_test)))\n",
    "y_pred = y_encoder.inverse_transform(y_pred)\n",
    "encY_test = y_encoder.inverse_transform(encY_test)\n",
    "newDataset = pd.DataFrame({'label': idTest, 'prediction': list(y_pred), 'actual': list(y_test)}, columns=['label', 'prediction', 'actual'])\n",
    "newDataset"
   ]
  }
 ],
 "metadata": {
  "kernelspec": {
   "display_name": "Python 3",
   "language": "python",
   "name": "python3"
  },
  "language_info": {
   "codemirror_mode": {
    "name": "ipython",
    "version": 3
   },
   "file_extension": ".py",
   "mimetype": "text/x-python",
   "name": "python",
   "nbconvert_exporter": "python",
   "pygments_lexer": "ipython3",
   "version": "3.8.8"
  }
 },
 "nbformat": 4,
 "nbformat_minor": 5
}
